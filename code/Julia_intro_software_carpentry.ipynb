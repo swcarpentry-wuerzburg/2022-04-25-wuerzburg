{
 "cells": [
  {
   "cell_type": "markdown",
   "id": "db49fc72-7f40-476a-8144-11cd283c8d29",
   "metadata": {},
   "source": [
    "First line of code ;)"
   ]
  },
  {
   "cell_type": "code",
   "execution_count": 1,
   "id": "a42dc905-c281-4b66-bba3-baacbe0f285f",
   "metadata": {},
   "outputs": [
    {
     "name": "stdout",
     "output_type": "stream",
     "text": [
      "Hello World\n"
     ]
    }
   ],
   "source": [
    "println(\"Hello World\")"
   ]
  },
  {
   "cell_type": "code",
   "execution_count": 2,
   "id": "48388f6b-608f-44f3-8e8b-6743cceff7b7",
   "metadata": {},
   "outputs": [
    {
     "data": {
      "text/plain": [
       "\"Hello World\""
      ]
     },
     "execution_count": 2,
     "metadata": {},
     "output_type": "execute_result"
    }
   ],
   "source": [
    "\"Hello World\""
   ]
  },
  {
   "cell_type": "markdown",
   "id": "64fbfa60-90cf-47de-844b-e4da4afd169a",
   "metadata": {},
   "source": [
    "Integer types"
   ]
  },
  {
   "cell_type": "code",
   "execution_count": 3,
   "id": "c72a8de6-c9b5-4027-9e35-28454090a67a",
   "metadata": {},
   "outputs": [
    {
     "data": {
      "text/plain": [
       "320"
      ]
     },
     "execution_count": 3,
     "metadata": {},
     "output_type": "execute_result"
    }
   ],
   "source": [
    "a = 100\n",
    "b = 220\n",
    "c = a+b"
   ]
  },
  {
   "cell_type": "code",
   "execution_count": 4,
   "id": "7cb5e0f4-a2ad-46e1-8dfd-a6f260efea4b",
   "metadata": {},
   "outputs": [
    {
     "data": {
      "text/plain": [
       "Int64"
      ]
     },
     "execution_count": 4,
     "metadata": {},
     "output_type": "execute_result"
    }
   ],
   "source": [
    "typeof(c)"
   ]
  },
  {
   "cell_type": "code",
   "execution_count": 5,
   "id": "659674a0-980e-49ca-855e-37aea3282622",
   "metadata": {},
   "outputs": [
    {
     "data": {
      "text/plain": [
       "320.7"
      ]
     },
     "execution_count": 5,
     "metadata": {},
     "output_type": "execute_result"
    }
   ],
   "source": [
    "d = 100.1\n",
    "e = 220.6\n",
    "f = d+e"
   ]
  },
  {
   "cell_type": "code",
   "execution_count": 6,
   "id": "1b25b60b-36cf-463d-8f5a-79091ed35211",
   "metadata": {},
   "outputs": [
    {
     "data": {
      "text/plain": [
       "Float64"
      ]
     },
     "execution_count": 6,
     "metadata": {},
     "output_type": "execute_result"
    }
   ],
   "source": [
    "typeof(f)"
   ]
  },
  {
   "cell_type": "markdown",
   "id": "88bbd776-0f3f-4ae3-a794-2e773cdef15d",
   "metadata": {},
   "source": [
    "Strings"
   ]
  },
  {
   "cell_type": "code",
   "execution_count": 7,
   "id": "c1b79dda-a75b-4880-b963-9f6e18c229a4",
   "metadata": {},
   "outputs": [
    {
     "data": {
      "text/plain": [
       "\"dieter\""
      ]
     },
     "execution_count": 7,
     "metadata": {},
     "output_type": "execute_result"
    }
   ],
   "source": [
    "str1 = \"hans\"\n",
    "str2 = \"dieter\""
   ]
  },
  {
   "cell_type": "code",
   "execution_count": 8,
   "id": "3b7f827f-6555-41ae-a0c6-a2ecda07d65f",
   "metadata": {},
   "outputs": [
    {
     "data": {
      "text/plain": [
       "\"hansdieter\""
      ]
     },
     "execution_count": 8,
     "metadata": {},
     "output_type": "execute_result"
    }
   ],
   "source": [
    "str3 = str1*str2"
   ]
  },
  {
   "cell_type": "code",
   "execution_count": 9,
   "id": "bd4c4cbb-525d-4e67-8250-4c34170fd0db",
   "metadata": {},
   "outputs": [
    {
     "data": {
      "text/plain": [
       "String"
      ]
     },
     "execution_count": 9,
     "metadata": {},
     "output_type": "execute_result"
    }
   ],
   "source": [
    "typeof(str3)"
   ]
  },
  {
   "cell_type": "markdown",
   "id": "2495eb4f-7385-4c40-b3b3-0ed9942cd31f",
   "metadata": {},
   "source": [
    "Array introduction"
   ]
  },
  {
   "cell_type": "code",
   "execution_count": 10,
   "id": "fa01d272-3ec7-406f-8352-3c0e447dc660",
   "metadata": {},
   "outputs": [
    {
     "data": {
      "text/plain": [
       "1000-element Vector{Float64}:\n",
       " 0.0\n",
       " 0.0\n",
       " 0.0\n",
       " 0.0\n",
       " 0.0\n",
       " 0.0\n",
       " 0.0\n",
       " 0.0\n",
       " 0.0\n",
       " 0.0\n",
       " 0.0\n",
       " 0.0\n",
       " 0.0\n",
       " ⋮\n",
       " 0.0\n",
       " 0.0\n",
       " 0.0\n",
       " 0.0\n",
       " 0.0\n",
       " 0.0\n",
       " 0.0\n",
       " 0.0\n",
       " 0.0\n",
       " 0.0\n",
       " 0.0\n",
       " 0.0"
      ]
     },
     "execution_count": 10,
     "metadata": {},
     "output_type": "execute_result"
    }
   ],
   "source": [
    "x = zeros(1000)"
   ]
  },
  {
   "cell_type": "markdown",
   "id": "39c26156-d9a0-40f0-8a64-08b22b955d08",
   "metadata": {},
   "source": [
    "How arrays work\n",
    "1 indexd"
   ]
  },
  {
   "cell_type": "code",
   "execution_count": 11,
   "id": "76c93993-0b75-43de-bfa6-5c088f9496d0",
   "metadata": {},
   "outputs": [
    {
     "data": {
      "text/plain": [
       "0.0"
      ]
     },
     "execution_count": 11,
     "metadata": {},
     "output_type": "execute_result"
    }
   ],
   "source": [
    "x[1]"
   ]
  },
  {
   "cell_type": "code",
   "execution_count": 12,
   "id": "05bb4700-ae22-4206-a7e2-0e265ec005a1",
   "metadata": {},
   "outputs": [
    {
     "data": {
      "text/plain": [
       "1000"
      ]
     },
     "execution_count": 12,
     "metadata": {},
     "output_type": "execute_result"
    }
   ],
   "source": [
    "length(x)"
   ]
  },
  {
   "cell_type": "markdown",
   "id": "6a642a6b-fce6-4e8c-b70c-69e062cbef8c",
   "metadata": {},
   "source": [
    "Loop works a bit different with the  `end` keyword\n",
    "we can use intendations but don't need to"
   ]
  },
  {
   "cell_type": "code",
   "execution_count": 13,
   "id": "aad4ccea-5ebe-4828-bb5e-9f0ceaf31ac7",
   "metadata": {},
   "outputs": [],
   "source": [
    "for i in 1:length(x)\n",
    "    x[i] = i*0.01\n",
    "end"
   ]
  },
  {
   "cell_type": "code",
   "execution_count": 17,
   "id": "0e40a506-d2af-4c2b-9844-bb085eec9b33",
   "metadata": {},
   "outputs": [
    {
     "data": {
      "text/plain": [
       "1000-element Vector{Float64}:\n",
       "  0.01\n",
       "  0.02\n",
       "  0.03\n",
       "  0.04\n",
       "  0.05\n",
       "  0.06\n",
       "  0.07\n",
       "  0.08\n",
       "  0.09\n",
       "  0.1\n",
       "  0.11\n",
       "  0.12\n",
       "  0.13\n",
       "  ⋮\n",
       "  9.89\n",
       "  9.9\n",
       "  9.91\n",
       "  9.92\n",
       "  9.93\n",
       "  9.94\n",
       "  9.950000000000001\n",
       "  9.96\n",
       "  9.97\n",
       "  9.98\n",
       "  9.99\n",
       " 10.0"
      ]
     },
     "execution_count": 17,
     "metadata": {},
     "output_type": "execute_result"
    }
   ],
   "source": [
    "x"
   ]
  },
  {
   "cell_type": "code",
   "execution_count": 18,
   "id": "ca93702e-0d23-46c1-bd47-9d9de4f07e7b",
   "metadata": {},
   "outputs": [
    {
     "data": {
      "text/plain": [
       "4-element Vector{Float64}:\n",
       " 0.01\n",
       " 0.02\n",
       " 0.03\n",
       " 0.04"
      ]
     },
     "execution_count": 18,
     "metadata": {},
     "output_type": "execute_result"
    }
   ],
   "source": [
    "x[1:4]"
   ]
  },
  {
   "cell_type": "markdown",
   "id": "238bd9bf-7702-47c8-808d-8dc5e20a5331",
   "metadata": {},
   "source": [
    "Use sinus function on value"
   ]
  },
  {
   "cell_type": "code",
   "execution_count": 19,
   "id": "7418052b-c615-4141-8023-b0826cfd72bc",
   "metadata": {},
   "outputs": [
    {
     "data": {
      "text/plain": [
       "0.009999833334166664"
      ]
     },
     "execution_count": 19,
     "metadata": {},
     "output_type": "execute_result"
    }
   ],
   "source": [
    "sin(x[1])"
   ]
  },
  {
   "cell_type": "markdown",
   "id": "121c848b-3298-4c16-be2b-008b55b4e94b",
   "metadata": {},
   "source": [
    "Use sinus function on whole array"
   ]
  },
  {
   "cell_type": "code",
   "execution_count": 20,
   "id": "4a8a8ba6-f30c-44c2-9294-170c6bf43091",
   "metadata": {},
   "outputs": [
    {
     "data": {
      "text/plain": [
       "1000-element Vector{Float64}:\n",
       "  0.009999833334166664\n",
       "  0.01999866669333308\n",
       "  0.02999550020249566\n",
       "  0.03998933418663416\n",
       "  0.04997916927067833\n",
       "  0.059964006479444595\n",
       "  0.06994284733753277\n",
       "  0.0799146939691727\n",
       "  0.08987854919801104\n",
       "  0.09983341664682815\n",
       "  0.10977830083717481\n",
       "  0.11971220728891936\n",
       "  0.12963414261969486\n",
       "  ⋮\n",
       " -0.44862125384280294\n",
       " -0.4575358937753214\n",
       " -0.4664047804997409\n",
       " -0.4752270271347798\n",
       " -0.48400175146312646\n",
       " -0.49272807601966023\n",
       " -0.5014051281791989\n",
       " -0.5100320402437544\n",
       " -0.5186079495293108\n",
       " -0.527131998452086\n",
       " -0.5356033346142913\n",
       " -0.5440211108893698"
      ]
     },
     "execution_count": 20,
     "metadata": {},
     "output_type": "execute_result"
    }
   ],
   "source": [
    "y = sin.(x)"
   ]
  },
  {
   "cell_type": "markdown",
   "id": "ca9feaf7-ded1-46c5-9945-811bbe67c125",
   "metadata": {},
   "source": [
    "Plotting what we have done\n",
    "using the package GLMakie \n",
    "show website"
   ]
  },
  {
   "cell_type": "code",
   "execution_count": 21,
   "id": "246853cb-0e41-47b8-8cc0-0097ff8b1c45",
   "metadata": {},
   "outputs": [],
   "source": [
    "using GLMakie"
   ]
  },
  {
   "cell_type": "markdown",
   "id": "f78fae4d-6915-4132-bf4b-bdd94630b354",
   "metadata": {},
   "source": [
    "No need for any other packages, as Julia is powerfull by itself no numpy "
   ]
  },
  {
   "cell_type": "markdown",
   "id": "d2635988-eea2-47c3-af46-3d602bdca6af",
   "metadata": {},
   "source": [
    "Doing it the fast way, Lines function plots a line out of two arrays one x, one y coordinates"
   ]
  },
  {
   "cell_type": "code",
   "execution_count": 22,
   "id": "1b198e39-4808-438d-aace-65396b7e9c00",
   "metadata": {},
   "outputs": [
    {
     "data": {
      "text/plain": [
       "GLMakie.Screen(...)"
      ]
     },
     "execution_count": 22,
     "metadata": {},
     "output_type": "execute_result"
    }
   ],
   "source": [
    "fig = lines(x,y)\n",
    "display(fig)"
   ]
  },
  {
   "cell_type": "markdown",
   "id": "9ef1ce00-ea71-42a4-9c61-735d27810535",
   "metadata": {},
   "source": [
    "Doing it the right way ;)"
   ]
  },
  {
   "cell_type": "code",
   "execution_count": 23,
   "id": "6360f105-81aa-4bb2-99d7-87cc5bc0ead1",
   "metadata": {},
   "outputs": [
    {
     "data": {
      "text/plain": [
       "GLMakie.Screen(...)"
      ]
     },
     "execution_count": 23,
     "metadata": {},
     "output_type": "execute_result"
    }
   ],
   "source": [
    "fig2 = Figure(resolution = (1500,1500))\n",
    "display(fig2)"
   ]
  },
  {
   "cell_type": "code",
   "execution_count": 24,
   "id": "7f9aab10-b6cf-482a-b26b-08f37f51c379",
   "metadata": {},
   "outputs": [
    {
     "data": {
      "text/plain": [
       "Lines{Tuple{Vector{Point{2, Float32}}}}"
      ]
     },
     "execution_count": 24,
     "metadata": {},
     "output_type": "execute_result"
    }
   ],
   "source": [
    "ax = Axis(fig2[1,1],title = \"my first fig\")\n",
    "lines!(ax,x,y)"
   ]
  },
  {
   "cell_type": "markdown",
   "id": "34c46088-c77b-4263-b2e7-864826b518fd",
   "metadata": {},
   "source": [
    "Small syntax convention in julia functions with a `!` modify the input argument, without `!` return a new object"
   ]
  },
  {
   "cell_type": "markdown",
   "id": "52d6660e-9ccc-448f-9fb9-5b856c5a3368",
   "metadata": {},
   "source": [
    "Opens in seperate window in case you want it inline use CairoMakie. Show different plotting functions. "
   ]
  },
  {
   "cell_type": "code",
   "execution_count": 25,
   "id": "22e41315-596b-4cd3-a24a-49347b52ecbe",
   "metadata": {},
   "outputs": [
    {
     "data": {
      "text/plain": [
       "Scatter{Tuple{Vector{Point{2, Float32}}}}"
      ]
     },
     "execution_count": 25,
     "metadata": {},
     "output_type": "execute_result"
    }
   ],
   "source": [
    "scatter!(ax,x,cos.(x),color = \"grey\",markersize = 12)"
   ]
  },
  {
   "cell_type": "markdown",
   "id": "0debfede-262e-441b-9cac-3f68cd1a6ef8",
   "metadata": {},
   "source": [
    "## Make Animation"
   ]
  },
  {
   "cell_type": "markdown",
   "id": "10f11c46-d889-4ea2-bca8-eda5b48a1b38",
   "metadata": {},
   "source": [
    "Declare variable start_points which says how much points we initially want to draw "
   ]
  },
  {
   "cell_type": "code",
   "execution_count": 26,
   "id": "78943171-cdd7-40f1-b1ab-0155d604ac65",
   "metadata": {},
   "outputs": [],
   "source": [
    "start_points = 5\n",
    "set_theme!(theme_black())\n"
   ]
  },
  {
   "cell_type": "code",
   "execution_count": 27,
   "id": "7bef5d0b-e2af-48d3-a3cd-7af84fc1b2d8",
   "metadata": {},
   "outputs": [
    {
     "data": {
      "text/plain": [
       "GLMakie.Screen(...)"
      ]
     },
     "execution_count": 27,
     "metadata": {},
     "output_type": "execute_result"
    }
   ],
   "source": [
    "ani_fig = Figure(resolution = (1500,1500))\n",
    "ani_ax = Axis(ani_fig[1,1],title = \"My first animation :)\")\n",
    "scatter!(ani_ax,x[1:start_points],y[1:start_points],color = \"blue\")\n",
    "#make it look cool\n",
    "display(ani_fig)"
   ]
  },
  {
   "cell_type": "code",
   "execution_count": 28,
   "id": "1eb18aa9-d2b5-474c-b820-a60313d18199",
   "metadata": {},
   "outputs": [],
   "source": [
    "for t in start_points:length(x)\n",
    "    scatter!(ani_ax,x[t-1:t],y[t-1:t],color = \"blue\")\n",
    "    sleep(0.001)\n",
    "end"
   ]
  },
  {
   "cell_type": "code",
   "execution_count": 29,
   "id": "9adbe29c-2f05-4213-8eb9-5c721b8257ed",
   "metadata": {},
   "outputs": [
    {
     "data": {
      "text/plain": [
       "Task (runnable) @0x000000000d224010"
      ]
     },
     "execution_count": 29,
     "metadata": {},
     "output_type": "execute_result"
    }
   ],
   "source": [
    "@async for t in start_points:length(x)\n",
    "    scatter!(ani_ax,x[t-1:t],cos.(x[t-1:t]),color = \"red\")\n",
    "    sleep(0.001)\n",
    "end"
   ]
  },
  {
   "cell_type": "code",
   "execution_count": 30,
   "id": "4dbfd2be-45a9-4811-ac71-1ce0df3cbe93",
   "metadata": {},
   "outputs": [
    {
     "data": {
      "text/plain": [
       "Task (runnable) @0x000000000d227e10"
      ]
     },
     "execution_count": 30,
     "metadata": {},
     "output_type": "execute_result"
    }
   ],
   "source": [
    "@async for t in start_points:length(x)\n",
    "    lines!(ani_ax,x[t-1:t],sin.(y[t-1:t]),color = \"green\",linewith = 55)\n",
    "    sleep(0.001)\n",
    "end"
   ]
  },
  {
   "cell_type": "code",
   "execution_count": 32,
   "id": "273ed061-cf45-4ea2-a0f8-965a05cefbe9",
   "metadata": {},
   "outputs": [
    {
     "data": {
      "text/plain": [
       "Task (runnable) @0x000000000daf45e0"
      ]
     },
     "execution_count": 32,
     "metadata": {},
     "output_type": "execute_result"
    }
   ],
   "source": [
    "@async for t in start_points:length(x)\n",
    "    lines!(ani_ax,x[t-1:t],exp.(x[t-1:t]),color = \"pink\",linewidth = 10)\n",
    "    sleep(0.001)\n",
    "end"
   ]
  },
  {
   "cell_type": "code",
   "execution_count": 47,
   "id": "be35cc29-3243-4ccb-ad8d-96fe6088a5ce",
   "metadata": {},
   "outputs": [
    {
     "data": {
      "text/plain": [
       "GLMakie.Screen(...)"
      ]
     },
     "execution_count": 47,
     "metadata": {},
     "output_type": "execute_result"
    }
   ],
   "source": [
    "ani_fig = Figure(resolution = (1000,1000))\n",
    "ani_ax = Axis(ani_fig[1,1],title = \"My first animation :)\")\n",
    "scatter!(ani_ax,x[1:start_points],y[1:start_points])\n",
    "#make it look cool\n",
    "set_theme!(theme_black())\n",
    "display(ani_fig)"
   ]
  },
  {
   "cell_type": "code",
   "execution_count": 40,
   "id": "1fe14c40-68ae-488e-bd88-693ff36f013f",
   "metadata": {},
   "outputs": [
    {
     "data": {
      "text/plain": [
       "Task (runnable) @0x000000000cda22f0"
      ]
     },
     "execution_count": 40,
     "metadata": {},
     "output_type": "execute_result"
    }
   ],
   "source": [
    "@async record(ani_fig, \"beautiful.mp4\",start_points:length(x); framerate = 60) do t\n",
    "    scatter!(ani_ax,x[t-1:t],y[t-1:t],color = \"blue\")\n",
    "    lines!(ani_ax,x[t-1:t],cos.(x[t-1:t]),color = \"red\")\n",
    "end"
   ]
  },
  {
   "cell_type": "markdown",
   "id": "2437d3de-de8d-4659-8f25-69f809e51fbd",
   "metadata": {},
   "source": [
    "Make some optimizations"
   ]
  },
  {
   "cell_type": "code",
   "execution_count": 46,
   "id": "953a4e87-6347-46dc-a584-053d360db100",
   "metadata": {},
   "outputs": [
    {
     "data": {
      "text/plain": [
       "Task (runnable) @0x000000000c11dd20"
      ]
     },
     "execution_count": 46,
     "metadata": {},
     "output_type": "execute_result"
    }
   ],
   "source": [
    "@async record(ani_fig, \"beautiful_fast.mp4\",start_points:4:length(x); framerate = 60) do t\n",
    "    scatter!(ani_ax,x[t-4:t],y[t-4:t],color = \"blue\")\n",
    "    lines!(ani_ax,x[t-4:t],cos.(x[t-4:t]),color = \"red\")\n",
    "end"
   ]
  },
  {
   "cell_type": "code",
   "execution_count": null,
   "id": "3d7deb50-eccb-40fa-a7eb-1369d9cd0452",
   "metadata": {},
   "outputs": [],
   "source": []
  }
 ],
 "metadata": {
  "kernelspec": {
   "display_name": "Julia 1.7.2",
   "language": "julia",
   "name": "julia-1.7"
  },
  "language_info": {
   "file_extension": ".jl",
   "mimetype": "application/julia",
   "name": "julia",
   "version": "1.7.2"
  }
 },
 "nbformat": 4,
 "nbformat_minor": 5
}
